{
 "cells": [
  {
   "cell_type": "code",
   "execution_count": 1,
   "metadata": {},
   "outputs": [],
   "source": [
    "from bs4 import BeautifulSoup\n",
    "\n",
    "#Para descargar el contenido de la pagina\n",
    "import requests\n",
    "r=requests.get(\"https://es.investing.com/equities/most-active-stocks\")\n",
    "#Creamos el árbol de objetos Python que representan al documento HTML (la sopa)\n",
    "soup = BeautifulSoup(r.text, 'lxml')"
   ]
  },
  {
   "cell_type": "code",
   "execution_count": 7,
   "metadata": {},
   "outputs": [
    {
     "ename": "AttributeError",
     "evalue": "'NoneType' object has no attribute 'get_text'",
     "output_type": "error",
     "traceback": [
      "\u001b[0;31m---------------------------------------------------------------------------\u001b[0m",
      "\u001b[0;31mAttributeError\u001b[0m                            Traceback (most recent call last)",
      "\u001b[0;32m<ipython-input-7-894d02aedf56>\u001b[0m in \u001b[0;36m<module>\u001b[0;34m\u001b[0m\n\u001b[1;32m     12\u001b[0m \u001b[0mresult\u001b[0m \u001b[0;34m=\u001b[0m \u001b[0msoup\u001b[0m\u001b[0;34m.\u001b[0m\u001b[0mfind\u001b[0m\u001b[0;34m(\u001b[0m\u001b[0;34m'td'\u001b[0m\u001b[0;34m,\u001b[0m\u001b[0mattrs\u001b[0m\u001b[0;34m=\u001b[0m\u001b[0;34m{\u001b[0m\u001b[0;34m'class'\u001b[0m\u001b[0;34m:\u001b[0m\u001b[0;34m'left bold plusIconTd elp'\u001b[0m\u001b[0;34m}\u001b[0m\u001b[0;34m)\u001b[0m\u001b[0;34m\u001b[0m\u001b[0;34m\u001b[0m\u001b[0m\n\u001b[1;32m     13\u001b[0m \u001b[0maccion_id\u001b[0m\u001b[0;34m=\u001b[0m \u001b[0msoup\u001b[0m\u001b[0;34m.\u001b[0m\u001b[0mfind\u001b[0m\u001b[0;34m(\u001b[0m\u001b[0;34m'td'\u001b[0m\u001b[0;34m,\u001b[0m\u001b[0mattrs\u001b[0m\u001b[0;34m=\u001b[0m\u001b[0;34m{\u001b[0m\u001b[0;34m'class'\u001b[0m\u001b[0;34m:\u001b[0m\u001b[0;34m'alertBellGrayPlus js-plus-icon genToolTip oneline'\u001b[0m\u001b[0;34m}\u001b[0m\u001b[0;34m)\u001b[0m\u001b[0;34m\u001b[0m\u001b[0;34m\u001b[0m\u001b[0m\n\u001b[0;32m---> 14\u001b[0;31m \u001b[0mprint\u001b[0m\u001b[0;34m(\u001b[0m\u001b[0maccion_id\u001b[0m\u001b[0;34m.\u001b[0m\u001b[0mget_text\u001b[0m\u001b[0;34m(\u001b[0m\u001b[0;34m)\u001b[0m\u001b[0;34m)\u001b[0m\u001b[0;34m\u001b[0m\u001b[0;34m\u001b[0m\u001b[0m\n\u001b[0m\u001b[1;32m     15\u001b[0m \u001b[0;34m\u001b[0m\u001b[0m\n\u001b[1;32m     16\u001b[0m \u001b[0mprint\u001b[0m\u001b[0;34m(\u001b[0m\u001b[0;34m\"La acción más activa de España es: \"\u001b[0m\u001b[0;34m)\u001b[0m\u001b[0;34m\u001b[0m\u001b[0;34m\u001b[0m\u001b[0m\n",
      "\u001b[0;31mAttributeError\u001b[0m: 'NoneType' object has no attribute 'get_text'"
     ]
    }
   ],
   "source": [
    "import requests\n",
    "from bs4 import BeautifulSoup\n",
    "\n",
    "#Tenemos que \"engañar\" a la pagina, para que crea que somos un navegador, por ello, incluimos headers, sino, obtendriamos el siguiente error:\n",
    "#<title>403 You are banned from this site.  Please contact via a different client configuration if you believe that this is a mistake.</title>\n",
    "\n",
    "\n",
    "header={'User-Agent':'Mozilla/5.0 (Windows NT 6.1; WOW64) AppleWebKit/537.36 (KHTML, like Gecko) Chrome/41.0.2227.0 Safari/537.36'}\n",
    "page=requests.get(\"https://es.investing.com/equities/most-active-stocks\",headers=header)\n",
    "\n",
    "soup=BeautifulSoup(page.content,'html.parser')\n",
    "result = soup.find('td',attrs={'class':'left bold plusIconTd elp'})\n",
    "#accion_id= soup.find('td',attrs={'class':'alertBellGrayPlus js-plus-icon genToolTip oneline'})\n",
    "#print(accion_id.get_text())\n",
    "\n",
    "print(\"La acción más activa de España es: \")\n",
    "#Así conseguimos el primer elemento de la lista.\n",
    "print(result.get_text())\n",
    "\n",
    "valor=soup.find('td',attrs={'class':'align_right pid-474-last'})\n",
    "print(\"Siendo su valor:\")\n",
    "print(valor.get_text())\n",
    "\n",
    "#Aqui estamos obteniendo la primera de la lista, junto con su valor"
   ]
  },
  {
   "cell_type": "code",
   "execution_count": 3,
   "metadata": {},
   "outputs": [
    {
     "name": "stdout",
     "output_type": "stream",
     "text": [
      "Las acciones de España más activas son:\n",
      "\n",
      "Santander\n",
      "Iberdrola\n",
      "Inditex\n",
      "BBVA\n",
      "Repsol\n",
      "Telefónica\n",
      "Amadeus\n",
      "Cellnex Telecom\n",
      "IAG\n",
      "Siemens Gamesa\n",
      "ACS\n",
      "CaixaBank\n",
      "Grifols\n",
      "Aena\n",
      "PharmaMar\n",
      "Bankinter\n",
      "Banco Sabadell\n",
      "Ferrovial\n",
      "Solaria\n",
      "Enagás\n",
      "Endesa\n",
      "Service P.S.\n",
      "Red Eléctrica\n",
      "Naturgy Energy\n",
      "Meliá Hotels\n",
      "Mapfre\n",
      "Merlin Properties\n",
      "ArcelorMittal\n",
      "Acerinox\n",
      "Acciona\n",
      "Viscofan\n",
      "Cie Automotive\n",
      "MásMóvil\n",
      "MásMóvil\n",
      "Berkeley Energy\n",
      "Indra\n",
      "Colonial\n",
      "Bankia\n",
      "Grifols Pref\n",
      "Vidrala\n",
      "Almirall\n",
      "Técnicas Reunidas\n",
      "Airbus Group\n",
      "Sacyr\n",
      "Gestamp\n",
      "Ebro Foods\n",
      "Atresmedia\n",
      "Logista\n",
      "Mediaset\n",
      "Tubos Reunidos\n"
     ]
    }
   ],
   "source": [
    "print(\"Las acciones de España más activas son:\\n\")\n",
    "for link in soup.find_all('td',attrs={'class':'left bold plusIconTd elp'}):\n",
    "    print(link.get_text())\n",
    "    "
   ]
  },
  {
   "cell_type": "code",
   "execution_count": 3,
   "metadata": {},
   "outputs": [
    {
     "name": "stdout",
     "output_type": "stream",
     "text": [
      "Estos datos han sido actualizados el día: \n",
      "17:34:58\n"
     ]
    }
   ],
   "source": [
    "dia = soup.find('td',attrs={'class':'pid-474-time'})\n",
    "\n",
    "print(\"Estos datos han sido actualizados el día: \")\n",
    "#Así conseguimos el primer elemento de la lista.\n",
    "print(dia.get_text())"
   ]
  },
  {
   "cell_type": "code",
   "execution_count": 4,
   "metadata": {},
   "outputs": [
    {
     "name": "stdout",
     "output_type": "stream",
     "text": [
      "El valor de la divisa EUR/USD a día de hoy es: \n",
      "1,1810\n"
     ]
    }
   ],
   "source": [
    "#Además podemos encontrar otros valores que aportan gran informacion en esta página, tambien actualizados cada día, como puede ser el valor de la divisa EUR/USD a día de hoy.\n",
    "\n",
    "divisa_eur_usd = soup.find('p',attrs={'id':'TSB__summary_last_1'})\n",
    "\n",
    "print(\"El valor de la divisa EUR/USD a día de hoy es: \")\n",
    "#Así conseguimos el primer elemento de la lista.\n",
    "print(divisa_eur_usd.get_text())"
   ]
  },
  {
   "cell_type": "code",
   "execution_count": 5,
   "metadata": {},
   "outputs": [
    {
     "name": "stdout",
     "output_type": "stream",
     "text": [
      "IBEX 35\n"
     ]
    }
   ],
   "source": [
    "#Así como las cotizaciones recientes del IBEX35, también en tiempo real\n",
    "ibex_35 = soup.find('a',attrs={'href':'/indices/spain-35'})\n",
    "\n",
    "print(ibex_35.get_text())"
   ]
  },
  {
   "cell_type": "code",
   "execution_count": null,
   "metadata": {},
   "outputs": [],
   "source": []
  }
 ],
 "metadata": {
  "kernelspec": {
   "display_name": "Python 3",
   "language": "python",
   "name": "python3"
  },
  "language_info": {
   "codemirror_mode": {
    "name": "ipython",
    "version": 3
   },
   "file_extension": ".py",
   "mimetype": "text/x-python",
   "name": "python",
   "nbconvert_exporter": "python",
   "pygments_lexer": "ipython3",
   "version": "3.8.3"
  }
 },
 "nbformat": 4,
 "nbformat_minor": 2
}
