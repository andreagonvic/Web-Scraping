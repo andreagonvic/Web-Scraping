{
 "cells": [
  {
   "cell_type": "code",
   "execution_count": 7,
   "metadata": {},
   "outputs": [],
   "source": [
    "from bs4 import BeautifulSoup\n",
    "\n",
    "#Para descargar el contenido de la pagina\n",
    "import requests\n",
    "r=requests.get(\"https://es.investing.com/equities/most-active-stocks\")\n",
    "\n",
    "#Creamos el árbol de objetos Python que representan al documento HTML (la sopa)\n",
    "soup = BeautifulSoup(r.text, 'lxml')"
   ]
  },
  {
   "cell_type": "code",
   "execution_count": 13,
   "metadata": {},
   "outputs": [
    {
     "name": "stdout",
     "output_type": "stream",
     "text": [
      "La acción más activa de España es: \n",
      "Santander\n",
      "Siendo su valor:\n",
      "1,698\n"
     ]
    }
   ],
   "source": [
    "import requests\n",
    "from bs4 import BeautifulSoup\n",
    "\n",
    "#Tenemos que \"engañar\" a la pagina, para que crea que somos un navegador, por ello, incluimos headers, sino, obtendriamos el siguiente error:\n",
    "#<title>403 You are banned from this site.  Please contact via a different client configuration if you believe that this is a mistake.</title>\n",
    "\n",
    "\n",
    "header={'User-Agent':'Mozilla/5.0 (Windows NT 6.1; WOW64) AppleWebKit/537.36 (KHTML, like Gecko) Chrome/41.0.2227.0 Safari/537.36'}\n",
    "page=requests.get(\"https://es.investing.com/equities/most-active-stocks\",headers=header)\n",
    "\n",
    "# Comprobamos que la petición nos devuelve un Status Code = 200\n",
    "status_code = page.status_code\n",
    "if status_code == 200:\n",
    "\n",
    "    soup=BeautifulSoup(page.content,'html.parser')\n",
    "    result = soup.find('td',attrs={'class':'left bold plusIconTd elp'})\n",
    "\n",
    "    print(\"La acción más activa de España es: \")\n",
    "    #Así conseguimos el primer elemento de la lista.\n",
    "    print(result.get_text())\n",
    "\n",
    "    valor=soup.find('td',attrs={'class':'align_right pid-474-last'})\n",
    "    print(\"Siendo su valor:\")\n",
    "    print(valor.get_text())\n",
    "\n",
    "    #Aqui estamos obteniendo la primera de la lista, junto con su valor\n",
    "    \n",
    "else:\n",
    "    print(\"Status Code %d\" % status_code)"
   ]
  },
  {
   "cell_type": "code",
   "execution_count": 56,
   "metadata": {},
   "outputs": [
    {
     "name": "stdout",
     "output_type": "stream",
     "text": [
      "Las acciones de España más activas y sus valores son:\n",
      "\n",
      "Santander \t1,698\n",
      "Iberdrola \t10,625\n",
      "BBVA \t2,406\n",
      "Inditex \t22,610\n",
      "Repsol \t5,460\n",
      "Amadeus \t42,660\n",
      "Telefónica \t2,995\n",
      "Cellnex Telecom \t53,54\n",
      "Siemens Gamesa \t24,850\n",
      "Ferrovial \t20,000\n",
      "ACS \t21,000\n",
      "CaixaBank \t1,620\n",
      "Endesa \t23,630\n",
      "Aena \t119,30\n",
      "IAG \t1,067\n",
      "Grifols \t24,475\n",
      "Bankinter \t3,263\n",
      "Red Eléctrica \t15,975\n",
      "Naturgy Energy \t17,435\n",
      "Nyesa Valores Corp \t0,0087\n",
      "Enagás \t19,365\n",
      "Banco Sabadell \t0,272\n",
      "ArcelorMittal \t11,822\n",
      "PharmaMar \t109,900\n",
      "Mapfre \t1,290\n",
      "Solaria \t15,980\n",
      "Merlin Properties \t5,95\n",
      "Acciona \t92,300\n",
      "Cie Automotive \t16,540\n",
      "Indra \t5,670\n",
      "Colonial \t6,170\n",
      "Viscofan \t54,500\n",
      "Meliá Hotels \t3,120\n",
      "Acerinox \t7,300\n",
      "Service P.S. \t1,2800\n",
      "Applus \t7,03\n",
      "Almirall \t9,330\n",
      "MásMóvil \t22,52\n",
      "MásMóvil \t22,50\n",
      "Bankia \t1,091\n",
      "ENCE \t1,998\n",
      "Sacyr \t1,486\n",
      "Mediaset \t2,796\n",
      "Fluidra \t14,860\n",
      "Técnicas Reunidas \t7,005\n",
      "Logista \t14,20\n",
      "Vidrala \t84,000\n",
      "Amper \t0,1790\n",
      "Gestamp \t2,51\n",
      "Construcciones y Auxiliar \t28,750\n"
     ]
    }
   ],
   "source": [
    "import re\n",
    "\n",
    "# Ahora haremos lo mismo con el resto de valores de la lista\n",
    "print(\"Las acciones de España más activas y sus valores son:\\n\")\n",
    "\n",
    "# Crearemos un bucle que vaya recogiendo el nombre de la acción y su valor.\n",
    "for link in soup.find_all('td',attrs={'class':'left bold plusIconTd elp'}):\n",
    "    \n",
    "    line = link.find('span',{'class':'alertBellGrayPlus js-plus-icon genToolTip oneliner'})\n",
    "    id_valor = re.findall('\\D(\\d{3,7})\\D', str(line))\n",
    "    new_class = \"align_right pid-\"+ id_valor[0] +\"-last\"\n",
    "    valor=soup.find('td',attrs={'class':new_class}).getText()\n",
    "    print(link.get_text() + \" \\t\" + valor)\n",
    "    "
   ]
  },
  {
   "cell_type": "code",
   "execution_count": 3,
   "metadata": {},
   "outputs": [
    {
     "name": "stdout",
     "output_type": "stream",
     "text": [
      "Estos datos han sido actualizados el día: \n",
      "17:34:58\n"
     ]
    }
   ],
   "source": [
    "dia = soup.find('td',attrs={'class':'pid-474-time'})\n",
    "\n",
    "print(\"Estos datos han sido actualizados el día: \")\n",
    "#Así conseguimos el primer elemento de la lista.\n",
    "print(dia.get_text())"
   ]
  },
  {
   "cell_type": "code",
   "execution_count": 4,
   "metadata": {},
   "outputs": [
    {
     "name": "stdout",
     "output_type": "stream",
     "text": [
      "El valor de la divisa EUR/USD a día de hoy es: \n",
      "1,1810\n"
     ]
    }
   ],
   "source": [
    "#Además podemos encontrar otros valores que aportan gran informacion en esta página, tambien actualizados cada día, como puede ser el valor de la divisa EUR/USD a día de hoy.\n",
    "\n",
    "divisa_eur_usd = soup.find('p',attrs={'id':'TSB__summary_last_1'})\n",
    "\n",
    "print(\"El valor de la divisa EUR/USD a día de hoy es: \")\n",
    "#Así conseguimos el primer elemento de la lista.\n",
    "print(divisa_eur_usd.get_text())"
   ]
  },
  {
   "cell_type": "code",
   "execution_count": 5,
   "metadata": {},
   "outputs": [
    {
     "name": "stdout",
     "output_type": "stream",
     "text": [
      "IBEX 35\n"
     ]
    }
   ],
   "source": [
    "#Así como las cotizaciones recientes del IBEX35, también en tiempo real\n",
    "ibex_35 = soup.find('a',attrs={'href':'/indices/spain-35'})\n",
    "\n",
    "print(ibex_35.get_text())"
   ]
  },
  {
   "cell_type": "code",
   "execution_count": null,
   "metadata": {},
   "outputs": [],
   "source": []
  }
 ],
 "metadata": {
  "kernelspec": {
   "display_name": "Python 3",
   "language": "python",
   "name": "python3"
  },
  "language_info": {
   "codemirror_mode": {
    "name": "ipython",
    "version": 3
   },
   "file_extension": ".py",
   "mimetype": "text/x-python",
   "name": "python",
   "nbconvert_exporter": "python",
   "pygments_lexer": "ipython3",
   "version": "3.8.3"
  }
 },
 "nbformat": 4,
 "nbformat_minor": 2
}
